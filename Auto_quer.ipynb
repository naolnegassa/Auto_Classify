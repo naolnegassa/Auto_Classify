{
  "nbformat": 4,
  "nbformat_minor": 0,
  "metadata": {
    "colab": {
      "name": "Auto_quer",
      "version": "0.3.2",
      "provenance": [],
      "include_colab_link": true
    },
    "kernelspec": {
      "name": "python3",
      "display_name": "Python 3"
    },
    "accelerator": "GPU"
  },
  "cells": [
    {
      "cell_type": "markdown",
      "metadata": {
        "id": "view-in-github",
        "colab_type": "text"
      },
      "source": [
        "<a href=\"https://colab.research.google.com/github/naolnegassa/Auto_Classify/blob/master/Auto_quer.ipynb\" target=\"_parent\"><img src=\"https://colab.research.google.com/assets/colab-badge.svg\" alt=\"Open In Colab\"/></a>"
      ]
    },
    {
      "cell_type": "code",
      "metadata": {
        "id": "vy9VwsW26SWK",
        "colab_type": "code",
        "colab": {}
      },
      "source": [
        "!pip install google_images_download\n",
        "#Imports\n",
        "import tensorflow as tf\n",
        "import keras\n",
        "from google.colab import drive\n",
        "import os\n",
        "from fastai.vision import *\n",
        "from fastai.metrics import error_rate\n",
        "import re\n",
        "from google_images_download import google_images_download"
      ],
      "execution_count": 0,
      "outputs": []
    },
    {
      "cell_type": "code",
      "metadata": {
        "id": "EkiUhjipzcat",
        "colab_type": "code",
        "colab": {}
      },
      "source": [
        "# Start off with Mounting Drive Locally\n",
        "from google.colab import drive\n",
        "drive.mount('/content/drive/')"
      ],
      "execution_count": 0,
      "outputs": []
    },
    {
      "cell_type": "code",
      "metadata": {
        "id": "DhwvJgXPz0Q8",
        "colab_type": "code",
        "colab": {}
      },
      "source": [
        "!ls \"/content/drive/My Drive/Auto_Query\""
      ],
      "execution_count": 0,
      "outputs": []
    },
    {
      "cell_type": "code",
      "metadata": {
        "id": "hs8Dn2Rb0OpQ",
        "colab_type": "code",
        "colab": {}
      },
      "source": [
        "#change the working directory to the Drive folder\n",
        "import os\n",
        "os.chdir(\"/content/drive/My Drive/Auto_Query\")\n",
        "#Initiliazation.py\n",
        "%reload_ext autoreload\n",
        "%autoreload 2\n",
        "%matplotlib inline\n",
        "\n",
        "from fastai.vision import *\n",
        "from fastai.metrics import error_rate\n",
        "\n",
        "bs = 64  #batch size\n",
        "sz = 224 #image size wanted\n",
        "PATH = \"/content/drive/My Drive/Auto_Query/downloads\""
      ],
      "execution_count": 0,
      "outputs": []
    },
    {
      "cell_type": "code",
      "metadata": {
        "id": "ocsSImG7wFYe",
        "colab_type": "code",
        "colab": {}
      },
      "source": [
        "# google_images_download library\n",
        "!pip install google_images_download\n",
        "import re\n",
        "from google_images_download import google_images_download\n"
      ],
      "execution_count": 0,
      "outputs": []
    },
    {
      "cell_type": "code",
      "metadata": {
        "id": "fYlJp3mNwhMB",
        "colab_type": "code",
        "colab": {}
      },
      "source": [
        "response = google_images_download.googleimagesdownload()\n",
        "# TODO: Take in all queries at once, separated by commas, then split into\n",
        "# individual queries\n",
        "request_one = input('What would you like first?')\n",
        "request_two = input('And then?')\n",
        "name_one = str(request_one)\n",
        "name_two = str(request_two)\n",
        "#Test\n",
        "print('first request: ' +request_one)\n",
        "print('second request: '+request_two)\n",
        "\n",
        "search_queries = [request_one, request_two]\n",
        "print(search_queries)\n",
        "\n",
        "def downloadimages(query):  \n",
        "  arguments = {\"keywords\":query,\n",
        "              \"format\": \"jpg\",\n",
        "#               \"limit\": 250,\n",
        "              \"print_urls\": True,\n",
        "              \"size\": \"medium\"}\n",
        "  try:\n",
        "    response.download(arguments)\n",
        "    \n",
        "  except FileNotFoundError:  \n",
        "        arguments = {\"keywords\": query, \n",
        "                     \"format\": \"jpg\", \n",
        "#                      \"limit\":4, \n",
        "                     \"print_urls\":True,  \n",
        "                     \"size\": \"medium\", \n",
        "                     \"usage_rights\":\"labeled-for-reuse\"} \n",
        "                       \n",
        "        try: \n",
        "            # Downloading the photos based \n",
        "            # on the given arguments \n",
        "            response.download(arguments)  \n",
        "        except: \n",
        "            pass\n",
        "  \n",
        "for query in search_queries:\n",
        "  downloadimages(query)\n",
        "  print()\n",
        "\n"
      ],
      "execution_count": 0,
      "outputs": []
    },
    {
      "cell_type": "code",
      "metadata": {
        "id": "lGA57-_pr-h2",
        "colab_type": "code",
        "colab": {}
      },
      "source": [
        "#get_classes.py\n",
        "\n",
        "classes = []\n",
        "for d in os.listdir(PATH):\n",
        "    if os.path.isdir(os.path.join(PATH, d)) and not d.startswith('.'):\n",
        "        classes.append(d) \n",
        "print (\"There are \", len(classes), \"classes:\\n\", classes) "
      ],
      "execution_count": 0,
      "outputs": []
    },
    {
      "cell_type": "code",
      "metadata": {
        "id": "mtYWMsDAscmY",
        "colab_type": "code",
        "colab": {}
      },
      "source": [
        "#verify_images.py\n",
        "\n",
        "for c in classes:\n",
        "    print (\"Class:\", c)\n",
        "    verify_images(os.path.join(PATH, c), delete=True);"
      ],
      "execution_count": 0,
      "outputs": []
    },
    {
      "cell_type": "code",
      "metadata": {
        "id": "SXyJ6QOashoy",
        "colab_type": "code",
        "colab": {}
      },
      "source": [
        "#create_training_validation.py\n",
        "data  = ImageDataBunch.from_folder(PATH, ds_tfms=get_transforms(), size=sz, bs=bs, valid_pct=0.2).normalize(imagenet_stats)\n",
        "print (\"There are\", len(data.train_ds), \"training images and\", len(data.valid_ds), \"validation images.\" )"
      ],
      "execution_count": 0,
      "outputs": []
    },
    {
      "cell_type": "code",
      "metadata": {
        "id": "UZF8yWELs3yT",
        "colab_type": "code",
        "colab": {}
      },
      "source": [
        "#show data\n",
        "data.show_batch(rows = 3, figsize=(7,8))"
      ],
      "execution_count": 0,
      "outputs": []
    },
    {
      "cell_type": "code",
      "metadata": {
        "id": "AoijS34y8dgS",
        "colab_type": "code",
        "colab": {}
      },
      "source": [
        "#If the user wants to build their own model\n",
        "# import tensorflow as tf\n",
        "# import keras\n",
        "custom_query = input('Would you like to build your own model?')\n",
        "\n",
        "if custom_query.lower() == 'yes':\n",
        "  print('true')\n",
        "#TODO: request model specifications and use keras to build it out\n",
        "  "
      ],
      "execution_count": 0,
      "outputs": []
    },
    {
      "cell_type": "code",
      "metadata": {
        "id": "NPAwUfc2wrUC",
        "colab_type": "code",
        "colab": {}
      },
      "source": [
        "#TODO: Rename the individual files by the class later, if needed\n",
        "# def renaming(name_one, name_two):\n",
        "#   i = 0\n",
        "#   j = 0\n",
        "#   folder_one = \"/content/drive/My Drive/Auto_Query/downloads/\" + str(name_one) \n",
        "#   folder_two = \"/content/drive/My Drive/Auto_Query/downloads/\" + str(name_two)\n",
        "  \n",
        "#   for filename in os.listdir(folder_one):\n",
        "#     prevname = str(filename)\n",
        "#     newname = folder_one + str(name_one) + '/' + str(name_one) + str(i) + '.jpg'\n",
        "#     print('checking...')\n",
        "# #     dst = '{}'.format(name_one) + str(i) + '.jpg'\n",
        "# #     src = folder_one + filename \n",
        "# #     dst = folder_one + dst \n",
        "# #     os.rename(src, dst)\n",
        "#     os.rename(prevname, newname)\n",
        "# #     src = folder_one + filename\n",
        "# #     dst = folder_one + dst\n",
        "# #     os.rename(src, dst)\n",
        "#     i += 1\n",
        "#   print('Finished First Query')\n",
        "\n",
        "#   for filename in os.listdir(folder_two):\n",
        "#     print('checking..')\n",
        "#     newname = '{}'.format(name_one) + str(i) + '.jpg'\n",
        "#     os.rename(filename, newname)\n",
        "# #     dst = '{}'.format(name_one) + str(j) + '.jpg'\n",
        "# #     src = folder_two + filename\n",
        "# #     dst = folder_two + dst\n",
        "# #     os.rename(src, dst)\n",
        "#     j += 1\n",
        "#   print('Finished Second Query')\n",
        "# renaming(name_one, name_two)\n"
      ],
      "execution_count": 0,
      "outputs": []
    },
    {
      "cell_type": "code",
      "metadata": {
        "id": "1p13bR8AdYB9",
        "colab_type": "code",
        "colab": {}
      },
      "source": [
        "#model\n",
        "learn = cnn_learner(data, models.resnet34, metrics=accuracy)\n",
        "learn.lr_find();\n",
        "learn.recorder.plot()"
      ],
      "execution_count": 0,
      "outputs": []
    },
    {
      "cell_type": "code",
      "metadata": {
        "id": "l8_SQoYBv9Bt",
        "colab_type": "code",
        "colab": {}
      },
      "source": [
        "#fit\n",
        "#adjust to ideal learning rate manually for now\n",
        "learn.fit_one_cycle(7, max_lr=slice(1e-3,1e-2))"
      ],
      "execution_count": 0,
      "outputs": []
    },
    {
      "cell_type": "code",
      "metadata": {
        "id": "tEnMZn22wLh2",
        "colab_type": "code",
        "colab": {}
      },
      "source": [
        "#interpretation\n",
        "interpretation = ClassificationInterpretation.from_learner(learn)\n",
        "interpretation.plot_confusion_matrix(figsize=(12,12), dpi=60)\n",
        "interpretation.plot_top_losses(9, figsize=(15,11), heatmap=False)"
      ],
      "execution_count": 0,
      "outputs": []
    },
    {
      "cell_type": "code",
      "metadata": {
        "id": "CJZcGhGOwXiV",
        "colab_type": "code",
        "colab": {}
      },
      "source": [
        "# test model with a new image\n",
        "# TODO: either set up a new image scrape and make sure the image is new, \n",
        "# or connect to a webcam on local machine\n",
        "\n",
        "# path = './'\n",
        "# img = open_image(get_image_files(path)[0])\n",
        "# pred_class,pred_idx,outputs = learn.predict(img)\n",
        "# img.show()\n",
        "# print (\"It is a\", pred_class)"
      ],
      "execution_count": 0,
      "outputs": []
    }
  ]
}